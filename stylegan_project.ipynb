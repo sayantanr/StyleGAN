{
  "nbformat": 4,
  "nbformat_minor": 0,
  "metadata": {
    "colab": {
      "name": "stylegan project.ipynb",
      "provenance": []
    },
    "kernelspec": {
      "name": "python3",
      "display_name": "Python 3"
    },
    "language_info": {
      "name": "python"
    }
  },
  "cells": [
    {
      "cell_type": "code",
      "metadata": {
        "id": "EPI5gIbW9_3-"
      },
      "source": [
        "%tensorflow_version 1.x\n",
        "import tensorflow\n",
        "print(tensorflow.__version__)\n",
        "\n"
      ],
      "execution_count": null,
      "outputs": []
    },
    {
      "cell_type": "code",
      "metadata": {
        "id": "EVGgs85p-JG1"
      },
      "source": [
        "!git clone https://github.com/NVlabs/stylegan2.git\n"
      ],
      "execution_count": null,
      "outputs": []
    },
    {
      "cell_type": "code",
      "metadata": {
        "id": "mfa2UPz0-Qih"
      },
      "source": [
        "!python /content/stylegan2/run_generator.py generate-images \\\n",
        "--network=gdrive:networks/stylegan2-ffhq-config-f.pkl \\\n",
        " --seeds=4-6 --truncation-psi=0.4"
      ],
      "execution_count": null,
      "outputs": []
    },
    {
      "cell_type": "code",
      "metadata": {
        "id": "JBIEpJ7d-cgZ"
      },
      "source": [
        "!ffmpeg -r 1 -i /content/results/00000-generate-images/seed%04d.png -vcodec mpeg4 -y people.mp4\n",
        "\n"
      ],
      "execution_count": null,
      "outputs": []
    },
    {
      "cell_type": "code",
      "metadata": {
        "id": "v_aQRXfa-jxs"
      },
      "source": [
        "!cp people.mp4 /content\n"
      ],
      "execution_count": null,
      "outputs": []
    },
    {
      "cell_type": "code",
      "metadata": {
        "id": "Si7Rmswg-qC3"
      },
      "source": [
        "import sys\n",
        "sys.path.insert(0, \"/content/stylegan2\")\n",
        "\n"
      ],
      "execution_count": null,
      "outputs": []
    },
    {
      "cell_type": "code",
      "metadata": {
        "id": "-EusGzOP-y0Z"
      },
      "source": [
        "import argparse\n",
        "import numpy as np\n",
        "import PIL.Image\n",
        "import dnnlib\n",
        "import dnnlib.tflib as tflib\n",
        "import re\n",
        "import sys\n",
        "import pretrained_networks\n"
      ],
      "execution_count": null,
      "outputs": []
    },
    {
      "cell_type": "code",
      "metadata": {
        "id": "8YjB9P4h-33F"
      },
      "source": [
        "def seeder(seeds, vector_size):\n",
        " result = []\n",
        " for seed in seeds:\n",
        "   rnd = np.random.RandomState(seed)\n",
        "   result.append( rnd.randn(1, vector_size))\n",
        " return result\n"
      ],
      "execution_count": null,
      "outputs": []
    },
    {
      "cell_type": "code",
      "metadata": {
        "id": "6mFyr0kc-9Sk"
      },
      "source": [
        "def generate_images(gs, seeds, truncation_psi):\n",
        "   noise_vars = [var for name, var in Gs.components.synthesis.vars.items() if name.startswith('noise')]\n",
        " \n",
        "   Gs_kwargs = dnnlib.EasyDict()\n",
        "   Gs_kwargs.output_transform = dict(func=tflib.convert_images_to_uint8, nchw_to_nhwc=True)\n",
        "   Gs_kwargs.randomize_noise = False\n",
        "   if truncation_psi is not None:\n",
        "       Gs_kwargs.truncation_psi = truncation_psi\n",
        " \n",
        "   for seed_idx, seed in enumerate(seeds):\n",
        "       print('Generating image for seed %d/%d ...' % (seed_idx, len(seeds)))\n",
        "       rnd = np.random.RandomState()\n",
        "       tflib.set_vars({var: rnd.randn(*var.shape.as_list()) for var in noise_vars}) # [height, width]\n",
        "       images = Gs.run(seed, None, **Gs_kwargs) # [minibatch, height, width, channel]\n",
        "       path = f\"/content/out/image{seed_idx}.png\"\n",
        "       PIL.Image.fromarray(images[0], 'RGB').save(path)\n",
        "\n",
        "\n"
      ],
      "execution_count": null,
      "outputs": []
    },
    {
      "cell_type": "code",
      "metadata": {
        "id": "KSTOXG_w_CVy"
      },
      "source": [
        "network_pkl = \"gdrive:networks/stylegan2-ffhq-config-f.pkl\"\n",
        "print('Loading networks from \"%s\"...' % network_pkl)\n",
        "_G, _D, Gs = pretrained_networks.load_networks(network_pkl)\n"
      ],
      "execution_count": null,
      "outputs": []
    },
    {
      "cell_type": "code",
      "metadata": {
        "id": "VD2E1Ny-_H9K"
      },
      "source": [
        "vector_size = Gs.input_shape[1:][0]\n",
        "seeds = seeder(range(6, 5), vector_size)\n",
        "\n",
        "\n"
      ],
      "execution_count": null,
      "outputs": []
    },
    {
      "cell_type": "code",
      "metadata": {
        "id": "ijQFN5EA_Nun"
      },
      "source": [
        "!mkdir /content/out\n"
      ],
      "execution_count": null,
      "outputs": []
    },
    {
      "cell_type": "code",
      "metadata": {
        "id": "pTK6n9l8_Tez"
      },
      "source": [
        "seeds = seeder([6, 5], vector_size)\n",
        "\n"
      ],
      "execution_count": null,
      "outputs": []
    },
    {
      "cell_type": "code",
      "metadata": {
        "id": "5_67xsS3_Ysu"
      },
      "source": [
        "STEPS = 300\n",
        "diff = seeds[1] - seeds[0]\n",
        "step = diff / STEPS\n",
        "current = seeds[0].copy()\n",
        " \n",
        "seeds2 = []\n",
        "for i in range(STEPS):\n",
        " seeds2.append(current)\n",
        " current = current + step\n",
        "\n",
        "\n"
      ],
      "execution_count": null,
      "outputs": []
    },
    {
      "cell_type": "code",
      "metadata": {
        "id": "yR3uI7Ie_gP0"
      },
      "source": [
        "generate_images(Gs, seeds2, truncation_psi=0.4)\n",
        "\n"
      ],
      "execution_count": null,
      "outputs": []
    },
    {
      "cell_type": "code",
      "metadata": {
        "id": "oJhBRSOb_nod"
      },
      "source": [
        "!ffmpeg -r 50 -i /content/out/image%d.png -vcodec mpeg4 -y faces.mp4\n"
      ],
      "execution_count": null,
      "outputs": []
    },
    {
      "cell_type": "code",
      "metadata": {
        "id": "UVo05fUT_vGS"
      },
      "source": [
        "!cp faces.mp4 /content\n",
        "\n"
      ],
      "execution_count": null,
      "outputs": []
    }
  ]
}